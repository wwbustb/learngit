{
 "cells": [
  {
   "cell_type": "code",
   "execution_count": 1,
   "metadata": {
    "collapsed": true
   },
   "outputs": [],
   "source": [
    "%matplotlib inline\n",
    "import numpy as np\n",
    "import pandas as pd\n",
    "import matplotlib.pyplot as plt\n",
    "from datetime import datetime,timedelta\n",
    "from scipy.stats import rankdata,spearmanr,pearsonr\n",
    "import urllib2\n",
    "import json"
   ]
  },
  {
   "cell_type": "code",
   "execution_count": 2,
   "metadata": {
    "collapsed": true
   },
   "outputs": [],
   "source": [
    "\n",
    "\n",
    "def getData(factorName,token):\n",
    "    conf = {\n",
    "    \"TOKEN_URL\":\"http://auth.yunkuanke.com/oauth/token\",\n",
    "\t\"TOKEN_BODY\":\"client_id=ContentClient&client_secret=1249389CD9CA4429939689C9DDE19CFE&grant_type=password&scope=read&username=admin&password=admin\",\n",
    "\t\"TOKEN_HEADERS\":{\"Content-Type\":\"application/x-www-form-urlencoded;charset=UTF-8\"},\n",
    "\t\"DATA_URL\":\"http://factorapi.yunkuanke.com/factor/downloadFileByFacCode.do?factorCode=\"\n",
    "    }\n",
    "\n",
    "    req = urllib2.Request(url=conf[\"TOKEN_URL\"], data=conf[\"TOKEN_BODY\"], headers=conf[\"TOKEN_HEADERS\"])\n",
    "    res = urllib2.urlopen(req).read()\n",
    "    token = json.loads(json.loads(res)['data'])[\"access_token\"]\n",
    "    req = urllib2.Request(url=conf[\"DATA_URL\"] + factorName + \"&access_token=\" + token)\n",
    "    return pd.read_csv(urllib2.urlopen(req),parse_dates=True,index_col=0)"
   ]
  },
  {
   "cell_type": "code",
   "execution_count": 3,
   "metadata": {
    "collapsed": false
   },
   "outputs": [
    {
     "name": "stdout",
     "output_type": "stream",
     "text": [
      "Getting LZ_SP_FUTURE_QUOTE_CLOSE Data...\n",
      "Getting LZ_SP_FUTURE_QUOTE_VOLUME Data...\n",
      "Getting LZ_SP_FUTURE_QUOTE_CLOSE_TB Data...\n",
      "Getting LZ_SP_FUTURE_QUOTE_VOLUME_TB Data...\n",
      "Getting LZ_SI_FUTURE_QUOTE_CLOSE_TB Data...\n",
      "Getting LZ_SI_FUTURE_QUOTE_CLOSE_TB Data...\n"
     ]
    }
   ],
   "source": [
    "close = getData('LZ_SP_FUTURE_QUOTE_CLOSE',token)\n",
    "volume = getData('LZ_SP_FUTURE_QUOTE_VOLUME',token)\n",
    "close_tb = getData('LZ_SP_FUTURE_QUOTE_CLOSE_TB',token)\n",
    "volume_tb = getData('LZ_SP_FUTURE_QUOTE_VOLUME_TB',token)\n",
    "iclose_tb  = getData('LZ_SI_FUTURE_QUOTE_CLOSE_TB',token)\n",
    "ivolume_tb = getData('LZ_SI_FUTURE_QUOTE_CLOSE_TB',token)"
   ]
  },
  {
   "cell_type": "code",
   "execution_count": null,
   "metadata": {
    "collapsed": true
   },
   "outputs": [],
   "source": []
  },
  {
   "cell_type": "code",
   "execution_count": 42,
   "metadata": {
    "collapsed": false
   },
   "outputs": [
    {
     "data": {
      "text/plain": [
       "4247"
      ]
     },
     "execution_count": 42,
     "metadata": {},
     "output_type": "execute_result"
    }
   ],
   "source": [
    "len(volume_tb.columns)"
   ]
  },
  {
   "cell_type": "code",
   "execution_count": 41,
   "metadata": {
    "collapsed": false
   },
   "outputs": [],
   "source": [
    "#close_tb=close_tb.join(iclose_tb)\n",
    "volume_tb=volume_tb.join(ivolume_tb)"
   ]
  },
  {
   "cell_type": "code",
   "execution_count": 37,
   "metadata": {
    "collapsed": false
   },
   "outputs": [
    {
     "data": {
      "text/html": [
       "<div>\n",
       "<table border=\"1\" class=\"dataframe\">\n",
       "  <thead>\n",
       "    <tr style=\"text-align: right;\">\n",
       "      <th></th>\n",
       "      <th>a0501</th>\n",
       "      <th>a0503</th>\n",
       "      <th>a0505</th>\n",
       "      <th>a0507</th>\n",
       "      <th>a0509</th>\n",
       "      <th>a0511</th>\n",
       "      <th>a0601</th>\n",
       "      <th>a0603</th>\n",
       "      <th>a0605</th>\n",
       "      <th>a0607</th>\n",
       "      <th>...</th>\n",
       "      <th>TF1606</th>\n",
       "      <th>TF1609</th>\n",
       "      <th>TF1612</th>\n",
       "      <th>TF1703</th>\n",
       "      <th>TF1706</th>\n",
       "      <th>TF1709</th>\n",
       "      <th>TF1712</th>\n",
       "      <th>IC1707</th>\n",
       "      <th>IF1707</th>\n",
       "      <th>IH1707</th>\n",
       "    </tr>\n",
       "    <tr>\n",
       "      <th>LZ_SP_FUTURE_QUOTE_CLOSE_TB-d</th>\n",
       "      <th></th>\n",
       "      <th></th>\n",
       "      <th></th>\n",
       "      <th></th>\n",
       "      <th></th>\n",
       "      <th></th>\n",
       "      <th></th>\n",
       "      <th></th>\n",
       "      <th></th>\n",
       "      <th></th>\n",
       "      <th></th>\n",
       "      <th></th>\n",
       "      <th></th>\n",
       "      <th></th>\n",
       "      <th></th>\n",
       "      <th></th>\n",
       "      <th></th>\n",
       "      <th></th>\n",
       "      <th></th>\n",
       "      <th></th>\n",
       "      <th></th>\n",
       "    </tr>\n",
       "  </thead>\n",
       "  <tbody>\n",
       "    <tr>\n",
       "      <th>2005-01-04</th>\n",
       "      <td>NaN</td>\n",
       "      <td>NaN</td>\n",
       "      <td>NaN</td>\n",
       "      <td>NaN</td>\n",
       "      <td>NaN</td>\n",
       "      <td>NaN</td>\n",
       "      <td>NaN</td>\n",
       "      <td>NaN</td>\n",
       "      <td>NaN</td>\n",
       "      <td>NaN</td>\n",
       "      <td>...</td>\n",
       "      <td>NaN</td>\n",
       "      <td>NaN</td>\n",
       "      <td>NaN</td>\n",
       "      <td>NaN</td>\n",
       "      <td>NaN</td>\n",
       "      <td>NaN</td>\n",
       "      <td>NaN</td>\n",
       "      <td>NaN</td>\n",
       "      <td>NaN</td>\n",
       "      <td>NaN</td>\n",
       "    </tr>\n",
       "    <tr>\n",
       "      <th>2005-01-05</th>\n",
       "      <td>2885.0</td>\n",
       "      <td>2656.0</td>\n",
       "      <td>2577.0</td>\n",
       "      <td>2572.0</td>\n",
       "      <td>2604.0</td>\n",
       "      <td>2515.0</td>\n",
       "      <td>2517.0</td>\n",
       "      <td>NaN</td>\n",
       "      <td>2545.0</td>\n",
       "      <td>NaN</td>\n",
       "      <td>...</td>\n",
       "      <td>NaN</td>\n",
       "      <td>NaN</td>\n",
       "      <td>NaN</td>\n",
       "      <td>NaN</td>\n",
       "      <td>NaN</td>\n",
       "      <td>NaN</td>\n",
       "      <td>NaN</td>\n",
       "      <td>NaN</td>\n",
       "      <td>NaN</td>\n",
       "      <td>NaN</td>\n",
       "    </tr>\n",
       "    <tr>\n",
       "      <th>2005-01-06</th>\n",
       "      <td>2889.0</td>\n",
       "      <td>2665.0</td>\n",
       "      <td>2586.0</td>\n",
       "      <td>2583.0</td>\n",
       "      <td>2613.0</td>\n",
       "      <td>2518.0</td>\n",
       "      <td>2520.0</td>\n",
       "      <td>2559.0</td>\n",
       "      <td>NaN</td>\n",
       "      <td>NaN</td>\n",
       "      <td>...</td>\n",
       "      <td>NaN</td>\n",
       "      <td>NaN</td>\n",
       "      <td>NaN</td>\n",
       "      <td>NaN</td>\n",
       "      <td>NaN</td>\n",
       "      <td>NaN</td>\n",
       "      <td>NaN</td>\n",
       "      <td>NaN</td>\n",
       "      <td>NaN</td>\n",
       "      <td>NaN</td>\n",
       "    </tr>\n",
       "    <tr>\n",
       "      <th>2005-01-07</th>\n",
       "      <td>2893.0</td>\n",
       "      <td>2671.0</td>\n",
       "      <td>2614.0</td>\n",
       "      <td>2604.0</td>\n",
       "      <td>2632.0</td>\n",
       "      <td>2545.0</td>\n",
       "      <td>2550.0</td>\n",
       "      <td>NaN</td>\n",
       "      <td>NaN</td>\n",
       "      <td>NaN</td>\n",
       "      <td>...</td>\n",
       "      <td>NaN</td>\n",
       "      <td>NaN</td>\n",
       "      <td>NaN</td>\n",
       "      <td>NaN</td>\n",
       "      <td>NaN</td>\n",
       "      <td>NaN</td>\n",
       "      <td>NaN</td>\n",
       "      <td>NaN</td>\n",
       "      <td>NaN</td>\n",
       "      <td>NaN</td>\n",
       "    </tr>\n",
       "    <tr>\n",
       "      <th>2005-01-10</th>\n",
       "      <td>2885.0</td>\n",
       "      <td>2665.0</td>\n",
       "      <td>2610.0</td>\n",
       "      <td>2599.0</td>\n",
       "      <td>2633.0</td>\n",
       "      <td>2536.0</td>\n",
       "      <td>2544.0</td>\n",
       "      <td>NaN</td>\n",
       "      <td>2564.0</td>\n",
       "      <td>NaN</td>\n",
       "      <td>...</td>\n",
       "      <td>NaN</td>\n",
       "      <td>NaN</td>\n",
       "      <td>NaN</td>\n",
       "      <td>NaN</td>\n",
       "      <td>NaN</td>\n",
       "      <td>NaN</td>\n",
       "      <td>NaN</td>\n",
       "      <td>NaN</td>\n",
       "      <td>NaN</td>\n",
       "      <td>NaN</td>\n",
       "    </tr>\n",
       "  </tbody>\n",
       "</table>\n",
       "<p>5 rows × 4247 columns</p>\n",
       "</div>"
      ],
      "text/plain": [
       "                                a0501   a0503   a0505   a0507   a0509   a0511  \\\n",
       "LZ_SP_FUTURE_QUOTE_CLOSE_TB-d                                                   \n",
       "2005-01-04                        NaN     NaN     NaN     NaN     NaN     NaN   \n",
       "2005-01-05                     2885.0  2656.0  2577.0  2572.0  2604.0  2515.0   \n",
       "2005-01-06                     2889.0  2665.0  2586.0  2583.0  2613.0  2518.0   \n",
       "2005-01-07                     2893.0  2671.0  2614.0  2604.0  2632.0  2545.0   \n",
       "2005-01-10                     2885.0  2665.0  2610.0  2599.0  2633.0  2536.0   \n",
       "\n",
       "                                a0601   a0603   a0605  a0607   ...    TF1606  \\\n",
       "LZ_SP_FUTURE_QUOTE_CLOSE_TB-d                                  ...             \n",
       "2005-01-04                        NaN     NaN     NaN    NaN   ...       NaN   \n",
       "2005-01-05                     2517.0     NaN  2545.0    NaN   ...       NaN   \n",
       "2005-01-06                     2520.0  2559.0     NaN    NaN   ...       NaN   \n",
       "2005-01-07                     2550.0     NaN     NaN    NaN   ...       NaN   \n",
       "2005-01-10                     2544.0     NaN  2564.0    NaN   ...       NaN   \n",
       "\n",
       "                               TF1609  TF1612  TF1703  TF1706  TF1709  TF1712  \\\n",
       "LZ_SP_FUTURE_QUOTE_CLOSE_TB-d                                                   \n",
       "2005-01-04                        NaN     NaN     NaN     NaN     NaN     NaN   \n",
       "2005-01-05                        NaN     NaN     NaN     NaN     NaN     NaN   \n",
       "2005-01-06                        NaN     NaN     NaN     NaN     NaN     NaN   \n",
       "2005-01-07                        NaN     NaN     NaN     NaN     NaN     NaN   \n",
       "2005-01-10                        NaN     NaN     NaN     NaN     NaN     NaN   \n",
       "\n",
       "                               IC1707  IF1707  IH1707  \n",
       "LZ_SP_FUTURE_QUOTE_CLOSE_TB-d                          \n",
       "2005-01-04                        NaN     NaN     NaN  \n",
       "2005-01-05                        NaN     NaN     NaN  \n",
       "2005-01-06                        NaN     NaN     NaN  \n",
       "2005-01-07                        NaN     NaN     NaN  \n",
       "2005-01-10                        NaN     NaN     NaN  \n",
       "\n",
       "[5 rows x 4247 columns]"
      ]
     },
     "execution_count": 37,
     "metadata": {},
     "output_type": "execute_result"
    }
   ],
   "source": [
    "close_tb.head()"
   ]
  },
  {
   "cell_type": "code",
   "execution_count": 43,
   "metadata": {
    "collapsed": true
   },
   "outputs": [],
   "source": [
    "pct_tb=(close_tb-close_tb.shift(1))/close_tb.shift(1)\n",
    "pct=(close-close.shift(1))/close.shift(1)\n",
    "volume.fillna(0,inplace=True)\n",
    "volume_tb.fillna(0,inplace=True)"
   ]
  },
  {
   "cell_type": "code",
   "execution_count": null,
   "metadata": {
    "collapsed": true
   },
   "outputs": [],
   "source": []
  },
  {
   "cell_type": "code",
   "execution_count": 44,
   "metadata": {
    "collapsed": false
   },
   "outputs": [],
   "source": [
    "l=[]\n",
    "for i in close.columns.values:\n",
    "    l.append(filter(str.isalpha,i.split('.')[0][:4]))\n",
    "new_col=set(l)#万德数据\n",
    "l2=[]\n",
    "for i in close_tb.columns.values:\n",
    "    l2.append(filter(str.isalpha,i).upper())\n",
    "new_col_tb=set(l2)#淘宝数据"
   ]
  },
  {
   "cell_type": "code",
   "execution_count": 46,
   "metadata": {
    "collapsed": false,
    "scrolled": true
   },
   "outputs": [
    {
     "data": {
      "text/plain": [
       "{'AF', 'EF', 'IFM', 'IM', 'TM', 'TT'}"
      ]
     },
     "execution_count": 46,
     "metadata": {},
     "output_type": "execute_result"
    }
   ],
   "source": [
    "new_col-new_col_tb"
   ]
  },
  {
   "cell_type": "code",
   "execution_count": 47,
   "metadata": {
    "collapsed": false
   },
   "outputs": [
    {
     "name": "stdout",
     "output_type": "stream",
     "text": [
      "淘宝数据连续合约计算中...\n"
     ]
    }
   ],
   "source": [
    "#淘宝数据连续合约计算\n",
    "print '淘宝数据连续合约计算中...'\n",
    "con_tb=pd.DataFrame(index=close_tb.index,columns=new_col_tb)\n",
    "np_vol_tb=np.array(volume_tb)\n",
    "avg_vol_tb=volume_tb.copy()\n",
    "for i in range(5,np_vol_tb.shape[0]):\n",
    "    avg_vol_tb.iloc[i]=np.nanmean(np_vol_tb[i-5:i],axis=0)\n",
    "avg_vol_tb.fillna(0,inplace=True)\n",
    "for k in new_col_tb:\n",
    "    kind=[]\n",
    "    for i in avg_vol_tb.columns:\n",
    "        if filter(str.isalpha,i).upper()==k:\n",
    "            kind.append(i)\n",
    "    location=avg_vol_tb[kind].idxmax(axis=1)\n",
    "    z=zip(location.index,location.values)\n",
    "    for i in z:\n",
    "        con_tb.ix[i[0],k]=pct_tb.ix[i]"
   ]
  },
  {
   "cell_type": "code",
   "execution_count": 48,
   "metadata": {
    "collapsed": false
   },
   "outputs": [
    {
     "name": "stdout",
     "output_type": "stream",
     "text": [
      "淘宝数据连续合约计算中...\n"
     ]
    }
   ],
   "source": [
    "#淘宝数据连续合约计算\n",
    "print '淘宝数据连续合约计算中...'\n",
    "con_tb=pd.DataFrame(index=close_tb.index,columns=new_col_tb)\n",
    "np_vol_tb=np.array(volume_tb)\n",
    "avg_vol_tb=volume_tb.copy()\n",
    "for i in range(5,np_vol_tb.shape[0]):\n",
    "    avg_vol_tb.iloc[i]=np.nanmean(np_vol_tb[i-5:i],axis=0)\n",
    "avg_vol_tb.fillna(0,inplace=True)\n",
    "for k in new_col_tb:\n",
    "    kind=[]\n",
    "    for i in avg_vol_tb.columns:\n",
    "        if filter(str.isalpha,i).upper()==k:\n",
    "            kind.append(i)\n",
    "    location=avg_vol_tb[kind].idxmax(axis=1)\n",
    "    z=zip(location.index,location.values)\n",
    "    for i in z:\n",
    "        con_tb.ix[i[0],k]=pct_tb.ix[i]"
   ]
  },
  {
   "cell_type": "code",
   "execution_count": 49,
   "metadata": {
    "collapsed": false
   },
   "outputs": [
    {
     "name": "stdout",
     "output_type": "stream",
     "text": [
      "万德数据连续合约计算连续合约计算中...\n"
     ]
    }
   ],
   "source": [
    "#万德数据连续合约计算\n",
    "print '万德数据连续合约计算连续合约计算中...'\n",
    "con=pd.DataFrame(index=close.index,columns=new_col)\n",
    "np_vol=np.array(volume)\n",
    "avg_vol=volume.copy()\n",
    "for i in range(5,np_vol.shape[0]):\n",
    "    avg_vol.iloc[i]=np.nanmean(np_vol[i-5:i],axis=0)\n",
    "for k in new_col:\n",
    "    kind=[]\n",
    "    for i in avg_vol.columns:\n",
    "        if filter(str.isalpha,i.split('.')[0][:4])==k:\n",
    "            kind.append(i)\n",
    "    location=avg_vol[kind].idxmax(axis=1)\n",
    "    z=zip(location.index,location.values)\n",
    "    for i in z:\n",
    "        con.ix[i[0],k]=pct.ix[i]"
   ]
  },
  {
   "cell_type": "code",
   "execution_count": 50,
   "metadata": {
    "collapsed": false
   },
   "outputs": [],
   "source": [
    "#以万德为基础，用淘宝数据填补nan\n",
    "con_comb=con.combine_first(con_tb)\n",
    "con_comb.fillna(method='ffill',inplace=True)"
   ]
  },
  {
   "cell_type": "code",
   "execution_count": 51,
   "metadata": {
    "collapsed": false
   },
   "outputs": [
    {
     "name": "stdout",
     "output_type": "stream",
     "text": [
      "读期货持仓...\n"
     ]
    }
   ],
   "source": [
    "#读期货持仓\n",
    "print '读期货持仓...'\n",
    "table = pd.read_excel(u'D:\\Var\\SR2542宽鼎多策略对冲11号私募证券投资基金委托资产资产估值表20170531.xls',skiprows=[0,1,2,3,4,6,7])\n",
    "table.fillna(0,inplace=True)\n",
    "\n",
    "trade=pd.Series()\n",
    "amount=pd.Series()\n",
    "loc=[]\n",
    "for i,k in zip(table[u'科目名称'].index,table[u'科目名称'].values):\n",
    "    if u'_成本' in '%s'%k and u'方' in '%s'%k or u'_冲抵成本' in '%s'%k:\n",
    "        loc.append(i)\n",
    "for i in range(0,len(loc),2):\n",
    "    amount = amount.append(table.ix[loc[i]+1:loc[i+1]-1,u'成本'])\n",
    "    trade = trade.append(table.ix[loc[i]+1:loc[i+1]-1,u'科目名称'])\n",
    "data=pd.DataFrame()\n",
    "data['stocks']=trade\n",
    "data['amount']=amount\n",
    "\n",
    "w=data['amount']/np.sum(abs(data['amount']))\n",
    "money=np.sum(abs(data['amount']))"
   ]
  },
  {
   "cell_type": "code",
   "execution_count": 52,
   "metadata": {
    "collapsed": false,
    "scrolled": true
   },
   "outputs": [
    {
     "name": "stdout",
     "output_type": "stream",
     "text": [
      "持仓收益率合并...\n"
     ]
    }
   ],
   "source": [
    "#持仓收益率合并\n",
    "print '持仓收益率合并...'\n",
    "f=[]\n",
    "for i in data.stocks:\n",
    "    f.append(filter(str.isalpha,str(i)))\n",
    "p=con_comb[f]['2016-01-01':'2018-05-23']\n",
    "r=np.array(np.matrix(w)*np.matrix(p).T)[0]"
   ]
  },
  {
   "cell_type": "code",
   "execution_count": 53,
   "metadata": {
    "collapsed": false
   },
   "outputs": [
    {
     "name": "stdout",
     "output_type": "stream",
     "text": [
      "计算标准差...\n"
     ]
    }
   ],
   "source": [
    "#计算标准差\n",
    "print '计算标准差...'\n",
    "theta=[0]*(len(r)+1)\n",
    "alpha=0.94\n",
    "theta[0]=r[0]\n",
    "for i in range(1,len(r)+1):\n",
    "    theta[i]=np.sqrt(0.94*theta[i-1]**2+0.06*r[i-1]**2)"
   ]
  },
  {
   "cell_type": "code",
   "execution_count": 54,
   "metadata": {
    "collapsed": false,
    "scrolled": true
   },
   "outputs": [
    {
     "name": "stdout",
     "output_type": "stream",
     "text": [
      "在险价值为 68133.5996045\n"
     ]
    }
   ],
   "source": [
    "#计算在险价值\n",
    "print '在险价值为',money*1.65*theta[i]"
   ]
  },
  {
   "cell_type": "code",
   "execution_count": 55,
   "metadata": {
    "collapsed": false
   },
   "outputs": [
    {
     "name": "stdout",
     "output_type": "stream",
     "text": [
      "历史收益率超出估计比例： 0.0615384615385\n",
      "历史收益率低于估计比例： 0.0369230769231\n",
      "总计                  ： 0.0984615384615\n"
     ]
    }
   ],
   "source": [
    "test_r=r[20:]\n",
    "test_theta=theta[21:]\n",
    "print '历史收益率超出估计比例：',len(test_r[test_r-1.65*np.array(test_theta)>0])/float(len(test_r))\n",
    "print '历史收益率低于估计比例：',len(test_r[test_r+1.65*np.array(test_theta)<0])/float(len(test_r))\n",
    "print '总计                  ：',len(test_r[test_r-1.65*np.array(test_theta)>0])/float(len(test_r))+len(test_r[test_r+1.65*np.array(test_theta)<0])/float(len(test_r))"
   ]
  },
  {
   "cell_type": "code",
   "execution_count": 56,
   "metadata": {
    "collapsed": false
   },
   "outputs": [
    {
     "name": "stdout",
     "output_type": "stream",
     "text": [
      "0.0615384615385\n",
      "0.0369230769231\n",
      "0.0984615384615\n"
     ]
    },
    {
     "data": {
      "image/png": "[encoded data removed]",
      "text/plain": [
       "<matplotlib.figure.Figure at 0x1b3addd8>"
      ]
     },
     "metadata": {},
     "output_type": "display_data"
    }
   ],
   "source": [
    "#历史检验\n",
    "plt.figure(figsize=(10,4))\n",
    "plt.plot(1.65*np.array(theta))\n",
    "plt.plot(-1.65*np.array(theta))\n",
    "plt.scatter(range(len(r)),r,s=3,alpha=0.75,color='r',edgecolor='r')\n",
    "test_r=r[20:]\n",
    "test_theta=theta[21:]\n",
    "print len(test_r[test_r-1.65*np.array(test_theta)>0])/float(len(test_r))\n",
    "print len(test_r[test_r+1.65*np.array(test_theta)<0])/float(len(test_r))\n",
    "print len(test_r[test_r-1.65*np.array(test_theta)>0])/float(len(test_r))+len(test_r[test_r+1.65*np.array(test_theta)<0])/float(len(test_r))"
   ]
  },
  {
   "cell_type": "code",
   "execution_count": 517,
   "metadata": {
    "collapsed": false
   },
   "outputs": [
    {
     "data": {
      "text/plain": [
       "34690.731194715358"
      ]
     },
     "execution_count": 517,
     "metadata": {},
     "output_type": "execute_result"
    }
   ],
   "source": [
    "13000000*np.std(r)"
   ]
  },
  {
   "cell_type": "code",
   "execution_count": 519,
   "metadata": {
    "collapsed": false
   },
   "outputs": [
    {
     "data": {
      "text/plain": [
       "59452.054794520554"
      ]
     },
     "execution_count": 519,
     "metadata": {},
     "output_type": "execute_result"
    }
   ],
   "source": [
    "3100000*3.5/365/100*200"
   ]
  },
  {
   "cell_type": "code",
   "execution_count": null,
   "metadata": {
    "collapsed": true
   },
   "outputs": [],
   "source": []
  }
 ],
 "metadata": {
  "anaconda-cloud": {},
  "kernelspec": {
   "display_name": "Python [default]",
   "language": "python",
   "name": "python2"
  },
  "language_info": {
   "codemirror_mode": {
    "name": "ipython",
    "version": 2
   },
   "file_extension": ".py",
   "mimetype": "text/x-python",
   "name": "python",
   "nbconvert_exporter": "python",
   "pygments_lexer": "ipython2",
   "version": "2.7.12"
  }
 },
 "nbformat": 4,
 "nbformat_minor": 1
}
