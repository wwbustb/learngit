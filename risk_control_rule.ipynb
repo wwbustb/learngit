{
 "cells": [
  {
   "cell_type": "code",
   "execution_count": 1,
   "metadata": {
    "collapsed": true
   },
   "outputs": [],
   "source": [
    "#!/usr/bin/env python\n",
    "# -*- coding:utf-8 -*- \n",
    "import numpy as np\n",
    "import pandas as pd\n",
    "import datetime\n",
    "import urllib2\n",
    "import json\n",
    "import pymysql"
   ]
  },
  {
   "cell_type": "code",
   "execution_count": 2,
   "metadata": {
    "collapsed": false
   },
   "outputs": [],
   "source": [
    "def getData(factorName):\n",
    "    conf = {\n",
    "    \"TOKEN_URL\":\"http://auth.yunkuanke.com/oauth/token\",\n",
    "\t\"TOKEN_BODY\":\"client_id=ContentClient&client_secret=1249389CD9CA4429939689C9DDE19CFE&grant_type=password&scope=read&username=admin&password=admin\",\n",
    "\t\"TOKEN_HEADERS\":{\"Content-Type\":\"application/x-www-form-urlencoded;charset=UTF-8\"},\n",
    "\t\"DATA_URL\":\"http://factorapi.yunkuanke.com/factor/downloadFileByFacCode.do?factorCode=\"\n",
    "    }\n",
    "\n",
    "    req = urllib2.Request(url=conf[\"TOKEN_URL\"], data=conf[\"TOKEN_BODY\"], headers=conf[\"TOKEN_HEADERS\"])\n",
    "    res = urllib2.urlopen(req).read()\n",
    "    token = json.loads(json.loads(res)['data'])[\"access_token\"]\n",
    "    req = urllib2.Request(url=conf[\"DATA_URL\"] + factorName + \"&access_token=\" + token)\n",
    "    return pd.read_csv(urllib2.urlopen(req),parse_dates=True,index_col=0,encoding='gb2312')"
   ]
  },
  {
   "cell_type": "code",
   "execution_count": 3,
   "metadata": {
    "collapsed": false
   },
   "outputs": [],
   "source": [
    "product_name='CE295F46B5D94544A86591A33673C621'"
   ]
  },
  {
   "cell_type": "code",
   "execution_count": 4,
   "metadata": {
    "collapsed": false
   },
   "outputs": [],
   "source": [
    "def get_date(product_name):\n",
    "    conn = pymysql.connect(host='192.168.10.233', port=3306, user='test1', passwd='123456', db='risk',charset='utf8')\n",
    "    sql0 = \"select max(trade_date) from tbl_fund_future_statement WHERE product_code='{0}'\".format(product_name)\n",
    "    date=pd.read_sql(sql0,conn)['max(trade_date)'].values[0].strftime('%Y-%m-%d')\n",
    "    conn.close()\n",
    "    return date\n",
    "def get_product(product_name):\n",
    "    conn = pymysql.connect(host='192.168.10.233', port=3306, user='test1', passwd='123456', db='risk',charset='utf8')\n",
    "    date=get_date(product_name)\n",
    "    sql1 = \"select * from product_list WHERE product_id='{0}'\".format(product_name)\n",
    "    res=pd.read_sql(sql1,conn,index_col='productid')\n",
    "    conn.close()\n",
    "    return  res\n",
    "    \n",
    "    \n",
    "def get_future(product_name):\n",
    "    conn = pymysql.connect(host='192.168.10.233', port=3306, user='test1', passwd='123456', db='risk',charset='utf8')\n",
    "    date=get_date(product_name)\n",
    "    sql2 = \"select * from tbl_fund_future_statement WHERE product_code='{0}' and trade_date='{1}'\".format(product_name,date)\n",
    "    res=pd.read_sql(sql2,conn,index_col='Id')\n",
    "    conn.close()\n",
    "    return  res\n",
    "def get_fposition(product_name):\n",
    "    conn = pymysql.connect(host='192.168.10.233', port=3306, user='test1', passwd='123456', db='risk',charset='utf8')\n",
    "    date=get_date(product_name)\n",
    "    sql3 = \"select * from tbl_fund_future_statement_position WHERE product_code='{0}'and trade_date='{1}'\".format(product_name,date)\n",
    "    res=pd.read_sql(sql3,conn,index_col='Contract_Name')\n",
    "    conn.close()\n",
    "    return res\n",
    "def get_stock(product_name):\n",
    "    conn = pymysql.connect(host='192.168.10.233', port=3306, user='test1', passwd='123456', db='risk',charset='utf8')\n",
    "    sql0 = \"select max(trade_date) from tbl_fund_future_statement WHERE product_code='{0}'\".format(product_name)\n",
    "    date=pd.read_sql(sql0,conn)['max(trade_date)'].values[0].strftime('%Y-%m-%d')\n",
    "    sql4 = \"select * from tbl_fund_stock_statement WHERE product_code='{0}'and query_date='{1}'\".format(product_name,date)\n",
    "    res=pd.read_sql(sql4,conn,index_col='Id')\n",
    "    conn.close()\n",
    "    return res\n",
    "def get_spostion(product_name):\n",
    "    conn = pymysql.connect(host='192.168.10.233', port=3306, user='test1', passwd='123456', db='risk',charset='utf8')\n",
    "    date=get_date(product_name)\n",
    "    sql5 = \"select * from tbl_fund_stock_statement_position WHERE product_code='{0}'and query_date='{1}'\".format(product_name,date)\n",
    "    res=pd.read_sql(sql5,conn,index_col='Id')\n",
    "    conn.close()\n",
    "    return res\n",
    "def get_valuation(product_name):\n",
    "    conn = pymysql.connect(host='192.168.10.233', port=3306, user='test1', passwd='123456', db='risk',charset='utf8')\n",
    "    date=get_date(product_name)\n",
    "    sql6 = \"select * from tbl_fund_valuation WHERE Product_code='{0}'and Valuation_Date='{1}'\".format(product_name,date)\n",
    "    res=pd.read_sql(sql6,conn,index_col='Id')\n",
    "    conn.close()\n",
    "    return res"
   ]
  },
  {
   "cell_type": "code",
   "execution_count": 5,
   "metadata": {
    "collapsed": false
   },
   "outputs": [],
   "source": [
    "'''商品期货数据'''\n",
    "def get_commodity(product_name):\n",
    "    fposition=get_fposition(product_name)\n",
    "    futures=get_futures(product_name)\n",
    "    future=get_future(product_name)\n",
    "    stock=get_stock(product_name)\n",
    "    commodity=pd.DataFrame()\n",
    "    value_now=future['Customer_Equity'].values[0]+stock['Total_Assets'].values[0]\n",
    "    commodity_name=filter(lambda x:filter(str.isalpha,str(x)).upper() not in ['IF','IH','IC'],futures['contract'].values)\n",
    "    commodity['contract']=commodity_name\n",
    "    commodity['value']=fposition.ix[commodity_name,'Market_Value'].values\n",
    "    commodity['margin']=fposition.ix[commodity_name,'Margin'].values\n",
    "    commodity['type']=fposition.ix[commodity_name,'Position_Type'].values\n",
    "    commodity['value_weight_at_product']=commodity['value']/value_now\n",
    "    commodity['margin_weight_at_product']=commodity['margin']/value_now\n",
    "    return commodity\n",
    "\n",
    "'''股指期货数据'''\n",
    "def get_IF(product_name):\n",
    "    fposition=get_fposition(product_name)\n",
    "    future=get_future(product_name)\n",
    "    futures=get_futures(product_name)\n",
    "    stock=get_stock(product_name)\n",
    "    value_now=future['Customer_Equity'].values[0]+stock['Total_Assets'].values[0]\n",
    "    IF=pd.DataFrame()\n",
    "    IF_name=filter(lambda x:filter(str.isalpha,str(x)).upper() in ['IF','IH','IC'],futures['contract'].values)\n",
    "    IF['contract']=IF_name\n",
    "    IF['value']=fposition.ix[IF_name,'Market_Value'].values\n",
    "    IF['margin']=fposition.ix[IF_name,'Margin'].values\n",
    "    IF['type']=fposition.ix[IF_name,'Position_Type'].values\n",
    "    IF['value_weight_at_product']=IF['value']/value_now\n",
    "    IF['margin_weight_at_product']=IF['margin']/value_now\n",
    "    return IF\n",
    "\n",
    "'''股票数据'''\n",
    "def get_stocks(product_name):\n",
    "    spostion=get_spostion(product_name)\n",
    "    stocks=pd.DataFrame()\n",
    "    stocks['code']= spostion['Stock_Code'].values\n",
    "    stocks['value'] = spostion['Stock_Market_Value'].values\n",
    "    stocks=stocks[stocks['value']>0]\n",
    "    stocks['w']=stocks['value']/sum(stocks['value'])\n",
    "    return stocks\n",
    "'''期货数据'''\n",
    "def get_futures(product_name):\n",
    "    fposition=get_fposition(product_name)\n",
    "    future=get_future(product_name)\n",
    "    stock=get_stock(product_name)\n",
    "    value_now=future['Customer_Equity'].values[0]+stock['Total_Assets'].values[0]\n",
    "    futures=pd.DataFrame()\n",
    "    futures['contract']=fposition.index\n",
    "    futures['value']=fposition['Market_Value'].values\n",
    "    futures['margin']=fposition['Margin'].values\n",
    "    futures['type']=fposition['Position_Type'].values\n",
    "    futures['value_weight_at_product']=futures['value']/value_now\n",
    "    futures['margin_weight_at_product']=futures['margin']/value_now\n",
    "    return futures\n",
    "'''产品数据'''\n",
    "def get_product_value(product_name):\n",
    "    product=get_product(product_name)\n",
    "    futures=get_futures(product_name)\n",
    "    IF=get_IF(product_name)\n",
    "    commodity=get_commodity(product_name)\n",
    "    future=get_future(product_name)\n",
    "    stock=get_stock(product_name)\n",
    "    product_value=pd.Series(index=['initial','future','future_long','future_short','commodity','commodity_short','commodity_long','stock','IF','IF_long','IF_short','fund','bond','option','option_long','option_short','now'],data=0.0)\n",
    "    product_value['initial']=product['initial_value'].values[0]\n",
    "    product_value['future_long']=sum(futures['value'][futures['type']==1])\n",
    "    product_value['future_short']=sum(futures['value'][futures['type']==2])\n",
    "    product_value['IF']=sum(IF['value'])\n",
    "    product_value['IF_long']=sum(IF['value'][IF['type']==1])\n",
    "    product_value['IF_short']=sum(IF['value'][IF['type']==2])\n",
    "    product_value['commodity']=sum(commodity['value'])\n",
    "    product_value['commodity_long']=sum(commodity['value'][commodity['type']==1])\n",
    "    product_value['commodity_short']=sum(commodity['value'][commodity['type']==2])\n",
    "    product_value['future']=future['Customer_Equity'].values[0]\n",
    "    product_value['stock']=stock['Total_Assets'].values[0]\n",
    "    product_value['now'] = product_value['future']+product_value['stock']\n",
    "    return product_value\n"
   ]
  },
  {
   "cell_type": "code",
   "execution_count": 7,
   "metadata": {
    "collapsed": false
   },
   "outputs": [],
   "source": [
    "#产品相关规则\n",
    "\n",
    "'''获取净值'''\n",
    "def get_unit_value(product_name):\n",
    "    product_value=get_product_value(product_name)\n",
    "    return product_value['now']/float(product_value['initial'])\n",
    "\n",
    "'''持有的股票、股票型及混合型证券投资基金市值与买入、卖出股指期货、期权合约价值，合计（轧差计算）占基金资产净值的比例'''\n",
    "def get_stocks_funds_IF_option_weight(product_name):\n",
    "    product_value=get_product_value(product_name)\n",
    "    return (product_value['stock']+product_value['option_long']+product_value['fund']+product_value['IF_long']-product_value['option_short']-product_value['IF_short'])/product_value['now']\n",
    "\n",
    "'''股票相关多空净敞口占净值比例'''\n",
    "def get_stocks_long_short_weight(product_name):\n",
    "    product_value=get_product_value(product_name)\n",
    "    return (product_value['stock']+product_value['option_long']+product_value['IF_long']-product_value['option_short']-product_value['IF_short'])/product_value['now']\n",
    "\n",
    "'''股票现货及股指期货合约价值（非轧差）占比'''\n",
    "def get_stocks_IF_weight_NO_offset(product_name):\n",
    "    product_value=get_product_value(product_name)\n",
    "    return (product_value['stock']+product_value['IF'])/product_value['now']\n",
    "\n",
    "'''股票现货及股指期货合约价值（轧差）占比'''\n",
    "def get_stocks_IF_weight_offset(product_name):\n",
    "    product_value=get_product_value(product_name)\n",
    "    return (product_value['stock']+product_value['IF_long']-product_value['IF_short'])/product_value['now']"
   ]
  },
  {
   "cell_type": "code",
   "execution_count": 8,
   "metadata": {
    "collapsed": false
   },
   "outputs": [],
   "source": [
    "#股票相关规则\n",
    "\n",
    "'''获取行业权重'''\n",
    "def get_sector_weight(product_name):\n",
    "    stocks=get_stocks(product_name)\n",
    "    s=getData('LZ_GPA_TMP_INDU_ZX')\n",
    "    s['weight']=0\n",
    "    sector=getData('LZ_GPA_TMP_INDU_ZX')\n",
    "    sector_info=getData('LZ_GPA_INDU_ZX')\n",
    "    date=get_date(product_name)\n",
    "    sector_info=sector_info.ix[date]\n",
    "    sector_info.index=sector_info.index.map(lambda x:x.split('.')[0])\n",
    "    stocks['sector'] = sector_info[stocks['code']].astype(int).values\n",
    "    s.ix[stocks.groupby('sector').sum().index-1,'weight']=stocks.groupby('sector').sum()['w'].values\n",
    "    return s\n",
    "\n",
    "'''获取创业板权重'''\n",
    "def get_GEM_weight(product_name):\n",
    "    stocks=get_stocks(product_name)\n",
    "    GEM = stocks[stocks['code'].map(lambda x:x[:3])=='300']\n",
    "    return sum(GEM['w'])\n",
    "\n",
    "'''获取ST股票权重'''\n",
    "def get_ST_weight(product_name):\n",
    "    stocks=get_stocks(product_name)\n",
    "    date=get_date(product_name)\n",
    "    ST=getData('LZ_GPA_SLCIND_ST_FLAG').ix[date]\n",
    "    ST_stocks=ST[~np.isnan(ST)].index.map(lambda x:x.split('.')[0])\n",
    "    stocks['is_ST']=stocks['code'].map(lambda x: 1 if x in ST_stocks else 0)\n",
    "    return sum(stocks[stocks['is_ST']==1]['w'])\n",
    "\n",
    "'''获取单只股票权重'''\n",
    "def get_weight(product_name):\n",
    "    stocks=get_stocks(product_name)\n",
    "    return stocks[['code','w']]\n",
    "\n",
    "'''单股票持仓总股本占比'''\n",
    "def get_TCAP_weight(product_name):\n",
    "    stocks=get_stocks(product_name)\n",
    "    date=get_date(product_name)\n",
    "    TCAP=getData('LZ_GPA_VAL_A_TCAP').ix[date]\n",
    "    TCAP.index=TCAP.index.map(lambda x:x.split('.')[0])\n",
    "    stocks['tcap_w']=stocks['value']/(TCAP[stocks['code']].values*10000)\n",
    "    return stocks[['code','tcap_w']]\n",
    "\n",
    "'''单股票持仓流通股本占比'''\n",
    "def get_FCAP_weight(product_name):\n",
    "    stocks=get_stocks(product_name)\n",
    "    date=get_date(product_name)\n",
    "    FCAP=getData('LZ_GPA_VAL_A_FCAP').ix[date]\n",
    "    FCAP.index=FCAP.index.map(lambda x:x.split('.')[0])\n",
    "    stocks['fcap_w']=stocks['value']/(FCAP[stocks['code']].values*10000)\n",
    "    return stocks[['code','fcap_w']]"
   ]
  },
  {
   "cell_type": "code",
   "execution_count": 9,
   "metadata": {
    "collapsed": false
   },
   "outputs": [],
   "source": [
    "#期货相关规则\n",
    "\n",
    "'''投资于股指期货占用保证金占整个期货账户权益的比例'''\n",
    "def get_all_IF_margin_weight_at_future(product_name):\n",
    "    IF=get_IF(product_name)\n",
    "    product_value=get_product_value(product_name)\n",
    "    return sum(IF['margin'])/product_value['future']\n",
    "\n",
    "'''持有的单个商品期货品种的合约价值占计划资产净值的比例'''\n",
    "def get_future_value_weight_at_product(product_name):\n",
    "    commodity=get_commodity(product_name)\n",
    "    return commodity[['contract','value_weight_at_product']]\n",
    "\n",
    "'''持有的全部商品期货合约价值占计划资产净值的比例'''\n",
    "def get_all_future_value_weight_at_product(product_name):\n",
    "    product_value=get_product_value(product_name)\n",
    "    return product_value['commodity']/product_value['now']\n",
    "\n",
    "'''单一期货品种持仓的期货保证金占本计划财产净值的比例'''\n",
    "def get_future_margin_weight_at_product(product_name):\n",
    "    futures=get_futures(product_name)\n",
    "    product_value=get_product_value(product_name)\n",
    "    return futures[['contract','margin_weight_at_product']]\n",
    "\n",
    "'''期货多空净敞口占净值比例'''\n",
    "def future_open_weight(product_name):\n",
    "    product_value=get_product_value(product_name)\n",
    "    return abs(product_value['future_long']-product_value['future_short'])/product_value['now']\n",
    "\n",
    "'''期货保证金占用（非轧差）'''\n",
    "def get_all_future_margin_weight_at_future(product_name):\n",
    "    futures=get_futures(product_name)\n",
    "    product_value=get_product_value(product_name)\n",
    "    return sum(futures['margin'])/product_value['future']\n",
    "    "
   ]
  },
  {
   "cell_type": "code",
   "execution_count": null,
   "metadata": {
    "collapsed": false
   },
   "outputs": [],
   "source": []
  },
  {
   "cell_type": "code",
   "execution_count": null,
   "metadata": {
    "collapsed": true
   },
   "outputs": [],
   "source": []
  },
  {
   "cell_type": "code",
   "execution_count": 185,
   "metadata": {
    "collapsed": false,
    "scrolled": true
   },
   "outputs": [
    {
     "data": {
      "text/plain": [
       "[<matplotlib.lines.Line2D at 0x10997f60>]"
      ]
     },
     "execution_count": 185,
     "metadata": {},
     "output_type": "execute_result"
    },
    {
     "data": {
      "image/png": "[encoded data removed]",
      "text/plain": [
       "<matplotlib.figure.Figure at 0xda87f98>"
      ]
     },
     "metadata": {},
     "output_type": "display_data"
    }
   ],
   "source": [
    "conn = pymysql.connect(host='192.168.10.233', port=3306, user='test1', passwd='123456', db='risk',charset='utf8')\n",
    "sql0 = \"select max(trade_date) from tbl_fund_future_statement WHERE product_code='{0}'\".format(product_name)\n",
    "date=pd.read_sql(sql0,conn)['max(trade_date)'].values[0].strftime('%Y-%m-%d')\n",
    "sql4 = \"select * from tbl_fund_stock_statement_position WHERE product_code='{0}'\".format(product_name)\n",
    "s=pd.read_sql(sql4,conn,index_col='Id',parse_dates=['Query_Date'])\n",
    "st_w_h=[]\n",
    "for d in sorted(s['Query_Date'].value_counts().index):\n",
    "    today_s=s[['Stock_Code','Stock_Market_Value']][s['Query_Date']==d]\n",
    "    today_s['w']=today_s['Stock_Market_Value']/sum(today_s['Stock_Market_Value'])\n",
    "    GEM = today_s[today_s['Stock_Code'].map(lambda x:x[:3])=='300']\n",
    "    st_w_h.append(sum(GEM['w']))\n",
    "plt.figure(figsize=(10,4))\n",
    "plt.plot(sorted(s['Query_Date'].value_counts().index),st_w_h)"
   ]
  },
  {
   "cell_type": "code",
   "execution_count": null,
   "metadata": {
    "collapsed": true
   },
   "outputs": [],
   "source": []
  }
 ],
 "metadata": {
  "anaconda-cloud": {},
  "kernelspec": {
   "display_name": "Python [default]",
   "language": "python",
   "name": "python2"
  },
  "language_info": {
   "codemirror_mode": {
    "name": "ipython",
    "version": 2
   },
   "file_extension": ".py",
   "mimetype": "text/x-python",
   "name": "python",
   "nbconvert_exporter": "python",
   "pygments_lexer": "ipython2",
   "version": "2.7.12"
  }
 },
 "nbformat": 4,
 "nbformat_minor": 1
}
